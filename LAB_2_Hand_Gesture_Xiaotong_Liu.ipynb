{
  "cells": [
    {
      "cell_type": "markdown",
      "metadata": {
        "id": "X6WDvajSqIDs"
      },
      "source": [
        "# Lab 2: Hand Gesture Recognition\n",
        "\n",
        "This lab is based on an assignment developed by Prof. Lisa Zhang.\n",
        "\n",
        "This lab will be completed in two parts. In Part A you will gain experience gathering your own data set (specifically images of hand gestures), and understand the challenges involved in the data cleaning process. In Part B you will train a convolutional neural network to make classifications on different hand gestures. By the end of the lab, you should be able to:\n",
        "\n",
        "1. Generate and preprocess your own data\n",
        "2. Load and split data for training, validation and testing\n",
        "3. Train a Convolutional Neural Network\n",
        "4. Apply transfer learning to improve your model\n",
        "\n",
        "Note that for this lab we will not be providing you with any starter code. You should be able to take the code used in previous labs, tutorials and lectures and modify it accordingly to complete the tasks outlined below.\n",
        "\n",
        "### What to submit\n",
        "\n",
        "**Submission for Part A:**  \n",
        "Submit a zip file containing your images. Three images each of American Sign Language gestures for letters A - I (total of 27 images). You will be required to clean the images before submitting them. Details are provided under Part A of the handout.\n",
        "\n",
        "Individual image file names should follow the convention of student-number_Alphabet_file-number.jpg\n",
        "(e.g. 100343434_A_1.jpg).\n",
        "\n",
        "\n",
        "**Submission for Part B:**  \n",
        "Submit an HTML file containing all your code, outputs, and write-up\n",
        "from parts A and B. You can produce a HTML file directly from Google Colab. The Colab instructions are provided at the end of this document.\n",
        "\n",
        "**Do not submit any other files produced by your code.**\n",
        "\n",
        "Include a link to your colab file in your submission.\n",
        "\n",
        "Please use Google Colab to complete this assignment. If you want to use Jupyter Notebook, please complete the assignment and upload your Jupyter Notebook file to Google Colab for submission."
      ]
    },
    {
      "cell_type": "markdown",
      "metadata": {
        "id": "LfiFE_WOqIDu"
      },
      "source": [
        "## Colab Link\n",
        "\n",
        "Include a link to your colab file here\n",
        "\n",
        "Colab Link: https://colab.research.google.com/drive/1PuqH8xgaknEO7-a554VrHyvTK17gO_v9?usp=sharing"
      ]
    },
    {
      "cell_type": "markdown",
      "metadata": {
        "id": "kvTXpH_kqIDy"
      },
      "source": [
        "# Part A. Data Collection [10 pt]\n",
        "\n",
        "So far, we have worked with data sets that have been collected, cleaned, and curated by machine learning\n",
        "researchers and practitioners. Datasets like MNIST and CIFAR are often used as toy examples, both by\n",
        "students and by researchers testing new machine learning models.\n",
        "\n",
        "In the real world, getting a clean data set is never that easy. More than half the work in applying machine\n",
        "learning is finding, gathering, cleaning, and formatting your data set.\n",
        "\n",
        "The purpose of this lab is to help you gain experience gathering your own data set, and understand the\n",
        "challenges involved in the data cleaning process.\n",
        "\n",
        "### American Sign Language\n",
        "\n",
        "American Sign Language (ASL) is a complete, complex language that employs signs made by moving the\n",
        "hands combined with facial expressions and postures of the body. It is the primary language of many\n",
        "North Americans who are deaf and is one of several communication options used by people who are deaf or\n",
        "hard-of-hearing.\n",
        "\n",
        "The hand gestures representing English alphabet are shown below. This lab focuses on classifying a subset\n",
        "of these hand gesture images using convolutional neural networks. Specifically, given an image of a hand\n",
        "showing one of the letters A-I, we want to detect which letter is being represented.\n",
        "\n",
        "![alt text](https://www.disabled-world.com/pics/1/asl-alphabet.jpg)\n",
        "\n",
        "\n",
        "### Generating Data\n",
        "We will produce the images required for this lab by ourselves. Each student will collect, clean and submit\n",
        "three images each of Americal Sign Language gestures for letters A - I (total of 27 images)\n",
        "Steps involved in data collection\n",
        "\n",
        "1. Familiarize yourself with American Sign Language gestures for letters from A - I (9 letters).\n",
        "2. Take three pictures at slightly different orientation for each letter gesture using your\n",
        "mobile phone.\n",
        " - Ensure adequate lighting while you are capturing the images.\n",
        " - Use a white wall as your background.\n",
        " - Use your right hand to create gestures (for consistency).\n",
        " - Keep your right hand fairly apart from your body and any other obstructions.\n",
        " - Avoid having shadows on parts of your hand.\n",
        "3. Transfer the images to your laptop for cleaning.\n",
        "\n",
        "### Cleaning Data\n",
        "To simplify the machine learning the task, we will standardize the training images. We will make sure that\n",
        "all our images are of the same size (224 x 224 pixels RGB), and have the hand in the center of the cropped\n",
        "regions.\n",
        "\n",
        "You may use the following applications to crop and resize your images:\n",
        "\n",
        "**Mac**\n",
        "- Use Preview:\n",
        "– Holding down CMD + Shift will keep a square aspect ratio while selecting the hand area.\n",
        "– Resize to 224x224 pixels.\n",
        "\n",
        "**Windows 10**\n",
        "- Use Photos app to edit and crop the image and keep the aspect ratio a square.\n",
        "- Use Paint to resize the image to the final image size of 224x224 pixels.\n",
        "\n",
        "**Linux**\n",
        "- You can use GIMP, imagemagick, or other tools of your choosing.\n",
        "You may also use online tools such as http://picresize.com\n",
        "All the above steps are illustrative only. You need not follow these steps but following these will ensure that\n",
        "you produce a good quality dataset. You will be judged based on the quality of the images alone.\n",
        "Please do not edit your photos in any other way. You should not need to change the aspect ratio of your\n",
        "image. You also should not digitally remove the background or shadows—instead, take photos with a white\n",
        "background and minimal shadows.\n",
        "\n",
        "### Accepted Images\n",
        "Images will be accepted and graded based on the criteria below\n",
        "1. The final image should be size 224x224 pixels (RGB).\n",
        "2. The file format should be a .jpg file.\n",
        "3. The hand should be approximately centered on the frame.\n",
        "4. The hand should not be obscured or cut off.\n",
        "5. The photos follows the ASL gestures posted earlier.\n",
        "6. The photos were not edited in any other way (e.g. no electronic removal of shadows or background).\n",
        "\n",
        "### Submission\n",
        "Submit a zip file containing your images. There should be a total of 27 images (3 for each category)\n",
        "1. Individual image file names should follow the convention of student-number_Alphabet_file-number.jpg\n",
        "(e.g. 100343434_A_1.jpg)\n",
        "2. Zip all the images together and name it with the following convention: last-name_student-number.zip\n",
        "(e.g. last-name_100343434.zip).\n",
        "3. Submit the zipped folder.\n",
        "We will be anonymizing and combining the images that everyone submits. We will announce when the\n",
        "combined data set will be available for download.\n",
        "\n",
        "![alt text](https://github.com/UTNeural/APS360/blob/master/Gesture%20Images.PNG?raw=true)"
      ]
    },
    {
      "cell_type": "markdown",
      "metadata": {
        "id": "bJxMgWGNqID2"
      },
      "source": [
        "# Part B. Building a CNN [40 pt]\n",
        "\n",
        "For this lab, we are not going to give you any starter code. You will be writing a convolutional neural network\n",
        "from scratch. You are welcome to use any code from previous labs, lectures and tutorials. You should also\n",
        "write your own code.\n",
        "\n",
        "You may use the PyTorch documentation freely. You might also find online tutorials helpful. However, all\n",
        "code that you submit must be your own.\n",
        "\n",
        "Make sure that your code is vectorized, and does not contain obvious inefficiencies (for example, unecessary\n",
        "for loops, or unnecessary calls to unsqueeze()). Ensure enough comments are included in the code so that\n",
        "your TA can understand what you are doing. It is your responsibility to show that you understand what you\n",
        "write.\n",
        "\n",
        "**This is much more challenging and time-consuming than the previous labs.** Make sure that you\n",
        "give yourself plenty of time by starting early."
      ]
    },
    {
      "cell_type": "markdown",
      "metadata": {
        "id": "MiDuQaAh56sT"
      },
      "source": [
        "### Part 1. Data Loading and Splitting [5 pt]\n",
        "\n",
        "Download the anonymized data provided on Quercus. Split the data into training, validation, and test sets.\n",
        "\n",
        "Note: Data splitting is not as trivial in this lab. We want our test set to closely resemble the setting in which\n",
        "our model will be used. In particular, our test set should contain hands that are never seen in training!\n",
        "\n",
        "Explain how you split the data, either by describing what you did, or by showing the code that you used.\n",
        "Justify your choice of splitting strategy. How many training, validation, and test images do you have?\n",
        "\n",
        "For loading the data, you can use plt.imread, or any other method that you choose. You may find\n",
        "torchvision.datasets.ImageFolder helpful. (see https://pytorch.org/vision/stable/generated/torchvision.datasets.ImageFolder.html)"
      ]
    },
    {
      "cell_type": "code",
      "execution_count": null,
      "metadata": {
        "id": "WBrH5kBqRLa6",
        "colab": {
          "base_uri": "https://localhost:8080/"
        },
        "outputId": "2317b6b0-e0a6-4315-b2c2-d144c5dd42d7"
      },
      "outputs": [
        {
          "output_type": "stream",
          "name": "stdout",
          "text": [
            "Mounted at /content/drive\n"
          ]
        }
      ],
      "source": [
        "# mount our Google Drive\n",
        "from google.colab import drive\n",
        "drive.mount('/content/drive')"
      ]
    },
    {
      "cell_type": "code",
      "source": [
        "import os\n",
        "import numpy as np\n",
        "import torch\n",
        "import torchvision\n",
        "from torchvision import datasets, models, transforms\n",
        "import matplotlib.pyplot as plt"
      ],
      "metadata": {
        "id": "BxWeWPKZuNV0"
      },
      "execution_count": null,
      "outputs": []
    },
    {
      "cell_type": "code",
      "source": [
        "data_dir = '/content/drive/My Drive/Lab3'"
      ],
      "metadata": {
        "id": "YZN3L1DuvBBF"
      },
      "execution_count": null,
      "outputs": []
    },
    {
      "cell_type": "code",
      "source": [
        "train_dir = os.path.join(data_dir, 'train')\n",
        "test_dir = os.path.join(data_dir, 'test')\n",
        "val_dir = os.path.join(data_dir, 'val')"
      ],
      "metadata": {
        "id": "F7WWZNCc2vXU"
      },
      "execution_count": null,
      "outputs": []
    },
    {
      "cell_type": "code",
      "source": [
        "classes = ['A', 'B', 'C', 'D', 'E', 'F', 'G', 'H', 'I']\n",
        "\n",
        "# load and transform data using ImageFolder and resize all images to 224 x 224\n",
        "data_transform = transforms.Compose([transforms.Resize((224,224)),\n",
        "transforms.ToTensor(),\n",
        "])\n",
        "\n",
        "train_data = datasets.ImageFolder(train_dir, transform=data_transform)\n",
        "val_data = datasets.ImageFolder(val_dir, transform=data_transform)\n",
        "test_data = datasets.ImageFolder(test_dir, transform=data_transform)\n",
        "\n",
        "print('Num training images: ', len(train_data))\n",
        "print('Num validation images: ', len(val_data))\n",
        "print('Num testing images: ', len(test_data))"
      ],
      "metadata": {
        "id": "YGbgATbzR6RL",
        "colab": {
          "base_uri": "https://localhost:8080/"
        },
        "outputId": "6f3df373-4bd6-495e-ec76-8effb12e2fff"
      },
      "execution_count": null,
      "outputs": [
        {
          "output_type": "stream",
          "name": "stdout",
          "text": [
            "Num training images:  1640\n",
            "Num validation images:  488\n",
            "Num testing images:  303\n"
          ]
        }
      ]
    },
    {
      "cell_type": "markdown",
      "source": [
        "The data was split by hand, with training: validation: testing images = 1640:488:303. For letters A-I, it is noted that for each letter, if any image(s) from `student_1` used to train the model, these images will not be used for validation and testing."
      ],
      "metadata": {
        "id": "_ies1AnNBVBu"
      }
    },
    {
      "cell_type": "markdown",
      "metadata": {
        "id": "5VWX4DGY5gQE"
      },
      "source": [
        "### Part 2. Model Building and Sanity Checking [9 pt]\n",
        "\n",
        "### Part (a) Convolutional Network - 3 pt\n",
        "\n",
        "Build a convolutional neural network model that takes the (224x224 RGB) image as input, and predicts the gesture\n",
        "letter. Your model should be a subclass of nn.Module. Explain your choice of neural network architecture: how\n",
        "many layers did you choose? What types of layers did you use? Were they fully-connected or convolutional?\n",
        "What about other decisions like pooling layers, activation functions, number of channels / hidden units?"
      ]
    },
    {
      "cell_type": "code",
      "source": [
        "import torch.nn as nn\n",
        "import torch.nn.functional as F\n",
        "class GestureClassifier(nn.Module):\n",
        "  def __init__(self, num_class):\n",
        "    super(GestureClassifier, self).__init__()\n",
        "    self.conv1 = nn.Conv2d(3, 3, 5) #in_channels, out_chanels, kernel_size\n",
        "    self.pool = nn.MaxPool2d(2, 2) #kernel_size, stride\n",
        "    self.conv2 = nn.Conv2d(3, 64, 3) #in_channels, out_chanels, kernel_size\n",
        "    self.conv3 = nn.Conv2d(64,10,3)\n",
        "    self.fc1 = nn.Linear(10*26*26, 50)\n",
        "    self.fc2 = nn.Linear(50, num_class)\n",
        "\n",
        "  def forward(self, x):\n",
        "\n",
        "    x = self.pool(F.relu(self.conv1(x)))\n",
        "    x = self.pool(F.relu(self.conv2(x)))\n",
        "    x = self.pool(F.relu(self.conv3(x)))\n",
        "\n",
        "    x = x.view(-1, 10*26*26)\n",
        "    x = F.relu(self.fc1(x))\n",
        "    x = self.fc2(x)\n",
        "    x = x.squeeze(1) # flattern\n",
        "    return x"
      ],
      "metadata": {
        "id": "MBjUkyAhLFmH"
      },
      "execution_count": null,
      "outputs": []
    },
    {
      "cell_type": "markdown",
      "source": [
        "In the model, there were 3 convolution layers, 3 pooling layers and 2 fully-connected layers:\n",
        "\n",
        "\n",
        "1. convolution layer-1 with 3 input channels, 3 output channels, and kernel size = 5;\n",
        "2. then there was an activation ReLU();\n",
        "3. pooling layer with kernel size = 2 and stride size = 2;\n",
        "4. convolution layer-2 with 3 input channels, 64 output channels, and kernel size = 3;\n",
        "5. then there was an activation ReLU();\n",
        "6. pooling layer with kernel size = 2 and stride size = 2;\n",
        "7. convolution layer-3 with 64 input channels, 10 output channels, and kernel size = 3;\n",
        "8. then there was an activation ReLU();\n",
        "9. pooling layer with kernel size = 2 and stride size = 2;\n",
        "10. fully-connected layers with input size = $26*26*10$, and output size = 50\n",
        "11. then there was an activation ReLU();\n",
        "12.  fully-connected layers with input size = 50, and output size = num_class (could be change)."
      ],
      "metadata": {
        "id": "z4U8mbFCNn-H"
      }
    },
    {
      "cell_type": "markdown",
      "metadata": {
        "id": "XeGvelvb515e"
      },
      "source": [
        "### Part (b) Training Code - 3 pt\n",
        "\n",
        "Write code that trains your neural network given some training data. Your training code should make it easy\n",
        "to tweak the usual hyperparameters, like batch size, learning rate, and the model object itself. Make sure\n",
        "that you are checkpointing your models from time to time (the frequency is up to you). Explain your choice\n",
        "of loss function and optimizer."
      ]
    },
    {
      "cell_type": "markdown",
      "source": [
        "The loss function I used is Cross Entropy Loss. Since Cross Entropy Loss reflect more when giving wrong prediction.\n",
        "\n",
        "The optimizer I used is stochastic gradient descent with momentum = 9, since SGD calculates the gradient for the random observation picked in each step, which is computationally faster than calculating the gradient for the entire dataset. SGD is conceptually stable for convex and continuous optimization and SGD frequent updates of model parameters hence, converges in less time.\n",
        "\n",
        "Here we use momentum = 9, which could help accelerate the gradients vectors in the right direction and faster the converge.\n"
      ],
      "metadata": {
        "id": "SV893QaLQGmy"
      }
    },
    {
      "cell_type": "code",
      "source": [
        "import torch.optim as optim\n",
        "def get_accuracy(model, data, train=False):\n",
        "  correct = 0\n",
        "  total = 0\n",
        "  for imgs, labels in data:\n",
        "\n",
        "    #############################################\n",
        "    #To Enable GPU Usage\n",
        "    if torch.cuda.is_available():\n",
        "      imgs = imgs.cuda()\n",
        "      labels = labels.cuda()\n",
        "    #############################################\n",
        "\n",
        "    output = model(imgs)\n",
        "    #select index with maximum prediction score\n",
        "    pred = output.max(1, keepdim=True)[1]\n",
        "    correct += pred.eq(labels.view_as(pred)).sum().item()\n",
        "    total += imgs.shape[0]\n",
        "  return correct / total"
      ],
      "metadata": {
        "id": "mcb2cryY3oFf"
      },
      "execution_count": null,
      "outputs": []
    },
    {
      "cell_type": "code",
      "source": [
        "def train(model, train_loader, val_loader, batch_size, learning_rate, num_epochs):\n",
        "  criterion = nn.CrossEntropyLoss()\n",
        "\n",
        "  optimizer = optim.SGD(model.parameters(), lr=learning_rate, momentum=0.9)\n",
        "  iters, losses, train_acc, val_acc = [], [], [], []\n",
        "\n",
        "  # training\n",
        "  n = 0   # the number of iterations\n",
        "  for epoch in range(num_epochs):\n",
        "    for imgs, labels in iter(train_loader):\n",
        "\n",
        "\n",
        "      #To Enable GPU Usage\n",
        "      if torch.cuda.is_available():\n",
        "        imgs = imgs.cuda()\n",
        "        labels = labels.cuda()\n",
        "\n",
        "\n",
        "      out = model(imgs)              # forward pass\n",
        "      loss = criterion(out, labels)  # compute the total loss\n",
        "      loss.backward()                # backward pass (compute parameter updates)\n",
        "      optimizer.step()               # make the updates for each parameter\n",
        "      optimizer.zero_grad()          # a clean up step for PyTorch\n",
        "\n",
        "      # save the current training information\n",
        "      iters.append(n)\n",
        "      losses.append(float(loss)/batch_size)               # compute *average* loss\n",
        "      train_acc.append(get_accuracy(model, train_loader)) # compute training accuracy\n",
        "      val_acc.append(get_accuracy(model, val_loader))     # compute validation accuracy\n",
        "      n += 1\n",
        "\n",
        "  # plotting\n",
        "  plt.title(\"Training Curve\")\n",
        "  plt.plot(iters, losses, label=\"Train\")\n",
        "  plt.xlabel(\"Iterations\")\n",
        "  plt.ylabel(\"Loss\")\n",
        "  plt.show()\n",
        "\n",
        "  plt.title(\"Training Curve\")\n",
        "  plt.plot(iters, train_acc, label=\"Train\")\n",
        "  plt.plot(iters, val_acc, label=\"Validation\")\n",
        "  plt.xlabel(\"Iterations\")\n",
        "  plt.ylabel(\"Training Accuracy\")\n",
        "  plt.legend(loc='best')\n",
        "  plt.show()\n",
        "\n",
        "  print(\"Final Training Accuracy: {}\".format(train_acc[-1]))\n",
        "  print(\"Final Validation Accuracy: {}\".format(val_acc[-1]))"
      ],
      "metadata": {
        "id": "xJvusF7MYHPd"
      },
      "execution_count": null,
      "outputs": []
    },
    {
      "cell_type": "markdown",
      "metadata": {
        "id": "bk1RNgAj54rZ"
      },
      "source": [
        "### Part (c) “Overfit” to a Small Dataset - 3 pt\n",
        "\n",
        "One way to sanity check our neural network model and training code is to check whether the model is capable\n",
        "of “overfitting” or “memorizing” a small dataset. A properly constructed CNN with correct training code\n",
        "should be able to memorize the answers to a small number of images quickly.\n",
        "\n",
        "Construct a small dataset (e.g. just the images that you have collected). Then show that your model and\n",
        "training code is capable of memorizing the labels of this small data set.\n",
        "\n",
        "With a large batch size (e.g. the entire small dataset) and learning rate that is not too high, You should be\n",
        "able to obtain a 100% training accuracy on that small dataset relatively quickly (within 200 iterations)."
      ]
    },
    {
      "cell_type": "code",
      "source": [
        "def train_smallset(model, train_loader, batch_size, learning_rate, num_epochs):\n",
        "  criterion = nn.CrossEntropyLoss()\n",
        "\n",
        "  optimizer = optim.SGD(model.parameters(), lr=learning_rate, momentum=0.9)\n",
        "  iters, losses, train_acc = [], [], []\n",
        "\n",
        "  # training\n",
        "  n = 0 # the number of iterations\n",
        "  for epoch in range(num_epochs):\n",
        "    for imgs, labels in iter(train_loader):\n",
        "\n",
        "      #To Enable GPU Usage\n",
        "      if torch.cuda.is_available():\n",
        "        imgs = imgs.cuda()\n",
        "        labels = labels.cuda()\n",
        "\n",
        "      out = model(imgs)                     # forward pass\n",
        "      loss = criterion(out, labels)         # compute the total loss\n",
        "      loss.backward()                       # backward pass (compute parameter updates)\n",
        "      optimizer.step()                      # make the updates for each parameter\n",
        "      optimizer.zero_grad()                 # a clean up step for PyTorch\n",
        "\n",
        "      # save the current training information\n",
        "      iters.append(n)\n",
        "      losses.append(float(loss)/batch_size) # compute *average* loss\n",
        "      train_acc.append(get_accuracy(model, train_loader)) # compute training accuracy\n",
        "      n += 1\n",
        "\n",
        "  # plotting\n",
        "  plt.title(\"Training Curve\")\n",
        "  plt.plot(iters, losses, label=\"Train\")\n",
        "  plt.xlabel(\"Iterations\")\n",
        "  plt.ylabel(\"Loss\")\n",
        "  plt.show()\n",
        "\n",
        "  plt.title(\"Training Curve\")\n",
        "  plt.plot(iters, train_acc, label=\"Train\")\n",
        "  plt.xlabel(\"Iterations\")\n",
        "  plt.ylabel(\"Training Accuracy\")\n",
        "  plt.legend(loc='best')\n",
        "  plt.show()\n",
        "\n",
        "  print(\"Final Training Accuracy: {}\".format(train_acc[-1]))"
      ],
      "metadata": {
        "id": "H1HfFVswd1z1"
      },
      "execution_count": null,
      "outputs": []
    },
    {
      "cell_type": "code",
      "source": [
        "# define training and testing data directories\n",
        "data_dir_small = '/content/drive/My Drive/small_data'\n",
        "small_dir1 = os.path.join(data_dir_small)\n",
        "\n",
        "# classes are folders in each directory\n",
        "classes = ['A', 'B', 'C', 'D', 'E', 'F', 'G', 'H', 'I']\n",
        "\n",
        "data_transform = transforms.Compose([transforms.Resize((224,224)),\n",
        "transforms.ToTensor(),\n",
        "])\n",
        "\n",
        "small_data_1 = datasets.ImageFolder(data_dir_small, transform=data_transform)\n",
        "\n",
        "# print out some data stats\n",
        "print('Num small data images: ', len(small_data_1))"
      ],
      "metadata": {
        "colab": {
          "base_uri": "https://localhost:8080/"
        },
        "id": "tdTIZ_MvPlMv",
        "outputId": "df90d655-e072-412a-ae2c-a9b143a5be3c"
      },
      "execution_count": null,
      "outputs": [
        {
          "output_type": "stream",
          "name": "stdout",
          "text": [
            "Num small data images:  27\n"
          ]
        }
      ]
    },
    {
      "cell_type": "code",
      "source": [
        "# define dataloader parameters\n",
        "batch_size = 1\n",
        "# prepare data loaders\n",
        "train_loader1 = torch.utils.data.DataLoader(small_data_1, batch_size=batch_size,shuffle = True)"
      ],
      "metadata": {
        "id": "bE3fvuEmRefV"
      },
      "execution_count": null,
      "outputs": []
    },
    {
      "cell_type": "code",
      "source": [
        "model = GestureClassifier(num_class=9)\n",
        "if torch.cuda.is_available():\n",
        "  model.cuda()\n",
        "  print('CUDA is available!  Training on GPU ...')\n",
        "else:\n",
        "  print('CUDA is not available.  Training on CPU ...')\n",
        "train_smallset(model, train_loader1, 64, 0.001, 30)"
      ],
      "metadata": {
        "colab": {
          "base_uri": "https://localhost:8080/",
          "height": 609
        },
        "id": "O_VRg9jXYf8F",
        "outputId": "440796e8-96c2-4fff-e615-07a80fef1146"
      },
      "execution_count": null,
      "outputs": [
        {
          "output_type": "stream",
          "name": "stdout",
          "text": [
            "CUDA is available!  Training on GPU ...\n"
          ]
        },
        {
          "output_type": "display_data",
          "data": {
            "text/plain": [
              "<Figure size 432x288 with 1 Axes>"
            ],
            "image/png": "[encoded data removed]"
          },
          "metadata": {
            "needs_background": "light"
          }
        },
        {
          "output_type": "display_data",
          "data": {
            "text/plain": [
              "<Figure size 432x288 with 1 Axes>"
            ],
            "image/png": "[encoded data removed]"
          },
          "metadata": {
            "needs_background": "light"
          }
        },
        {
          "output_type": "stream",
          "name": "stdout",
          "text": [
            "Final Training Accuracy: 1.0\n"
          ]
        }
      ]
    },
    {
      "cell_type": "markdown",
      "source": [
        "From the output above, we could see that with `batch_size = 64`, `learning_rate = 0.001`, `num_epochs = 30`, the training accuracy is 1."
      ],
      "metadata": {
        "id": "HY6cm_4mNiw8"
      }
    },
    {
      "cell_type": "markdown",
      "metadata": {
        "id": "nvDLw-Vz6eVS"
      },
      "source": [
        "### Part 3. Hyperparameter Search [8 pt]\n",
        "\n",
        "### Part (a) - 2 pt\n",
        "\n",
        "List 3 hyperparameters that you think are most worth tuning. Choose at least one hyperparameter related to\n",
        "the model architecture."
      ]
    },
    {
      "cell_type": "markdown",
      "source": [
        "I would like to choose `learning_rate`, `batch_size` and the hyperparameter related to the model architecture `num_class`."
      ],
      "metadata": {
        "id": "tIzdPG7_wP8U"
      }
    },
    {
      "cell_type": "markdown",
      "metadata": {
        "id": "zeD6EzPB6kSW"
      },
      "source": [
        "### Part (b) - 2 pt\n",
        "\n",
        "Tune the hyperparameters you listed in Part (a), trying as many values as you need to until you feel satisfied\n",
        "that you are getting a good model. Plot the training curve of at least 4 different hyperparameter settings."
      ]
    },
    {
      "cell_type": "code",
      "source": [
        "#prepare for the loader\n",
        "batch_size = 64\n",
        "num_workers = 0\n",
        "train_loader = torch.utils.data.DataLoader(train_data, batch_size=batch_size,shuffle = True)\n",
        "val_loader = torch.utils.data.DataLoader(val_data, batch_size=batch_size, shuffle = True)\n",
        "test_loader = torch.utils.data.DataLoader(test_data, batch_size=batch_size, shuffle = True)"
      ],
      "metadata": {
        "id": "vZIXHQgpXBh2"
      },
      "execution_count": null,
      "outputs": []
    },
    {
      "cell_type": "code",
      "source": [
        "#model with num_class = 9, batch_size = 256, learning_rate = 0.01, num_epochs = 5\n",
        "\n",
        "model = GestureClassifier(num_class=9)\n",
        "if torch.cuda.is_available():\n",
        "  model.cuda()\n",
        "  print('CUDA is available!  Training on GPU ...')\n",
        "else:\n",
        "  print('CUDA is not available.  Training on CPU ...')\n",
        "train(model, train_loader, val_loader, 256, 0.01, 5)"
      ],
      "metadata": {
        "colab": {
          "base_uri": "https://localhost:8080/",
          "height": 627
        },
        "id": "aHyai9xLqZOj",
        "outputId": "1a4eae9d-71a5-42cb-90b9-de814e90d486"
      },
      "execution_count": null,
      "outputs": [
        {
          "output_type": "stream",
          "name": "stdout",
          "text": [
            "CUDA is available!  Training on GPU ...\n"
          ]
        },
        {
          "output_type": "display_data",
          "data": {
            "text/plain": [
              "<Figure size 432x288 with 1 Axes>"
            ],
            "image/png": "[encoded data removed]"
          },
          "metadata": {
            "needs_background": "light"
          }
        },
        {
          "output_type": "display_data",
          "data": {
            "text/plain": [
              "<Figure size 432x288 with 1 Axes>"
            ],
            "image/png": "[encoded data removed]"
          },
          "metadata": {
            "needs_background": "light"
          }
        },
        {
          "output_type": "stream",
          "name": "stdout",
          "text": [
            "Final Training Accuracy: 0.11158536585365854\n",
            "Final Validation Accuracy: 0.11270491803278689\n"
          ]
        }
      ]
    },
    {
      "cell_type": "code",
      "source": [
        "#model with num_class = 9, batch_size = 64, learning_rate = 0.01, num_epochs = 5\n",
        "\n",
        "model = GestureClassifier(num_class=9)\n",
        "if torch.cuda.is_available():\n",
        "  model.cuda()\n",
        "  print('CUDA is available!  Training on GPU ...')\n",
        "else:\n",
        "  print('CUDA is not available.  Training on CPU ...')\n",
        "train(model, train_loader, val_loader, 64, 0.01, 5)"
      ],
      "metadata": {
        "colab": {
          "base_uri": "https://localhost:8080/",
          "height": 627
        },
        "id": "sL5rVc7pUhcp",
        "outputId": "c63da14c-3b96-43f1-bdfb-8ae813a1b7e0"
      },
      "execution_count": null,
      "outputs": [
        {
          "output_type": "stream",
          "name": "stdout",
          "text": [
            "CUDA is available!  Training on GPU ...\n"
          ]
        },
        {
          "output_type": "display_data",
          "data": {
            "text/plain": [
              "<Figure size 432x288 with 1 Axes>"
            ],
            "image/png": "[encoded data removed]"
          },
          "metadata": {
            "needs_background": "light"
          }
        },
        {
          "output_type": "display_data",
          "data": {
            "text/plain": [
              "<Figure size 432x288 with 1 Axes>"
            ],
            "image/png": "[encoded data removed]"
          },
          "metadata": {
            "needs_background": "light"
          }
        },
        {
          "output_type": "stream",
          "name": "stdout",
          "text": [
            "Final Training Accuracy: 0.5024390243902439\n",
            "Final Validation Accuracy: 0.48975409836065575\n"
          ]
        }
      ]
    },
    {
      "cell_type": "code",
      "source": [
        "#model with num_class = 26, batch_size = 64, learning_rate = 0.01, num_epochs = 5\n",
        "\n",
        "model = GestureClassifier(num_class=26)\n",
        "if torch.cuda.is_available():\n",
        "  model.cuda()\n",
        "  print('CUDA is available!  Training on GPU ...')\n",
        "else:\n",
        "  print('CUDA is not available.  Training on CPU ...')\n",
        "train(model, train_loader, val_loader, 64, 0.01, 5)"
      ],
      "metadata": {
        "colab": {
          "base_uri": "https://localhost:8080/",
          "height": 627
        },
        "id": "QRwd38fTVmRp",
        "outputId": "afba595e-8902-43b7-8a76-c3bce4b72e17"
      },
      "execution_count": null,
      "outputs": [
        {
          "output_type": "stream",
          "name": "stdout",
          "text": [
            "CUDA is available!  Training on GPU ...\n"
          ]
        },
        {
          "output_type": "display_data",
          "data": {
            "text/plain": [
              "<Figure size 432x288 with 1 Axes>"
            ],
            "image/png": "[encoded data removed]"
          },
          "metadata": {
            "needs_background": "light"
          }
        },
        {
          "output_type": "display_data",
          "data": {
            "text/plain": [
              "<Figure size 432x288 with 1 Axes>"
            ],
            "image/png": "[encoded data removed]"
          },
          "metadata": {
            "needs_background": "light"
          }
        },
        {
          "output_type": "stream",
          "name": "stdout",
          "text": [
            "Final Training Accuracy: 0.3926829268292683\n",
            "Final Validation Accuracy: 0.4077868852459016\n"
          ]
        }
      ]
    },
    {
      "cell_type": "code",
      "source": [
        "#model with num_class = 26, batch_size = 64, learning_rate = 0.001, num_epochs = 5\n",
        "\n",
        "model = GestureClassifier(num_class=26)\n",
        "if torch.cuda.is_available():\n",
        "  model.cuda()\n",
        "  print('CUDA is available!  Training on GPU ...')\n",
        "else:\n",
        "  print('CUDA is not available.  Training on CPU ...')\n",
        "train(model, train_loader, val_loader, 64, 0.001, 5)"
      ],
      "metadata": {
        "colab": {
          "base_uri": "https://localhost:8080/",
          "height": 627
        },
        "id": "cw9GjcbXEVkI",
        "outputId": "1441ce97-a38c-44b4-ea19-65b0f0e71b38"
      },
      "execution_count": null,
      "outputs": [
        {
          "output_type": "stream",
          "name": "stdout",
          "text": [
            "CUDA is available!  Training on GPU ...\n"
          ]
        },
        {
          "output_type": "display_data",
          "data": {
            "text/plain": [
              "<Figure size 432x288 with 1 Axes>"
            ],
            "image/png": "[encoded data removed]"
          },
          "metadata": {
            "needs_background": "light"
          }
        },
        {
          "output_type": "display_data",
          "data": {
            "text/plain": [
              "<Figure size 432x288 with 1 Axes>"
            ],
            "image/png": "[encoded data removed]"
          },
          "metadata": {
            "needs_background": "light"
          }
        },
        {
          "output_type": "stream",
          "name": "stdout",
          "text": [
            "Final Training Accuracy: 0.24024390243902438\n",
            "Final Validation Accuracy: 0.2766393442622951\n"
          ]
        }
      ]
    },
    {
      "cell_type": "markdown",
      "source": [
        "\n",
        "Summary:\n",
        "1. model with `num_class = 9`, `batch_size = 256`, `learning_rate = 0.01`, `num_epochs = 5`: training accuracy 11.15%, validation accuracy 11.27%.\n",
        "2. model with `num_class = 9`, `batch_size = 64`, `learning_rate = 0.01`, `num_epochs = 5`: training accuracy 50.24%, validation accuracy 48.98%.\n",
        "3. model with `num_class = 26`, `batch_size = 64`, `learning_rate = 0.01`, `num_epochs = 5`: training accuracy 39.27%, validation accuracy 40.78%.\n",
        "4. model with `num_class = 26`, `batch_size = 64`, `learning_rate = 0.001`, `num_epochs = 5`: training accuracy 24.02%, validation accuracy 27.66%.\n",
        "\n",
        "\n",
        "\n",
        "\n",
        "\n"
      ],
      "metadata": {
        "id": "PdIrBKGFIhNv"
      }
    },
    {
      "cell_type": "markdown",
      "metadata": {
        "id": "H93iN5_l60BO"
      },
      "source": [
        "### Part (c) - 2 pt\n",
        "Choose the best model out of all the ones that you have trained. Justify your choice."
      ]
    },
    {
      "cell_type": "markdown",
      "source": [
        "The best model is model with `num_class = 9`, `batch_size = 64`, `learning_rate = 0.01`, `num_epochs = 5`: training accuracy 50.24%, validation accuracy 48.98%. Since this model has the highest validation accuracy, which means this model represents the data best and has best performance relative to the other three."
      ],
      "metadata": {
        "id": "LQ09Pkd3TXvQ"
      }
    },
    {
      "cell_type": "markdown",
      "metadata": {
        "id": "QzNA5oup67JO"
      },
      "source": [
        "### Part (d) - 2 pt\n",
        "Report the test accuracy of your best model. You should only do this step once and prior to this step you should have only used the training and validation data."
      ]
    },
    {
      "cell_type": "code",
      "execution_count": null,
      "metadata": {
        "id": "2eJ7AbVl6-ax",
        "colab": {
          "base_uri": "https://localhost:8080/",
          "height": 627
        },
        "outputId": "a6694f96-f786-4eff-a063-458e60916682"
      },
      "outputs": [
        {
          "metadata": {
            "tags": null
          },
          "name": "stdout",
          "output_type": "stream",
          "text": [
            "CUDA is available!  Training on GPU ...\n"
          ]
        },
        {
          "output_type": "display_data",
          "data": {
            "text/plain": [
              "<Figure size 432x288 with 1 Axes>"
            ],
            "image/png": "[encoded data removed]"
          },
          "metadata": {
            "needs_background": "light"
          }
        },
        {
          "output_type": "display_data",
          "data": {
            "text/plain": [
              "<Figure size 432x288 with 1 Axes>"
            ],
            "image/png": "[encoded data removed]"
          },
          "metadata": {
            "needs_background": "light"
          }
        },
        {
          "output_type": "stream",
          "name": "stdout",
          "text": [
            "Final Training Accuracy: 0.11158536585365854\n",
            "Final Validation Accuracy: 0.11551155115511551\n"
          ]
        }
      ],
      "source": [
        "# test using model with num_class = 9, batch_size = 64, learning_rate = 0.01, num_epochs = 5\n",
        "model = GestureClassifier(num_class=9)\n",
        "if torch.cuda.is_available():\n",
        "  model.cuda()\n",
        "  print('CUDA is available!  Training on GPU ...')\n",
        "else:\n",
        "  print('CUDA is not available.  Training on CPU ...')\n",
        "train(model, train_loader, test_loader, 64, 0.01, 5)"
      ]
    },
    {
      "cell_type": "markdown",
      "source": [
        "Note: there is a typo, the validation accuracy and validation notation in the plot above should be testing.\n",
        "\n",
        "After running `train(model, train_loader, test_loader, 64, 0.01, 5)` with ` num_class= 9`, we get the testing accuracy is 11.55%."
      ],
      "metadata": {
        "id": "5Yl6j6xXNIVA"
      }
    },
    {
      "cell_type": "markdown",
      "metadata": {
        "id": "Wrem-iXV6_Bz"
      },
      "source": [
        "### Part 4. Transfer Learning [8 pt]\n",
        "For many image classification tasks, it is generally not a good idea to train a very large deep neural network\n",
        "model from scratch due to the enormous compute requirements and lack of sufficient amounts of training\n",
        "data.\n",
        "\n",
        "One of the better options is to try using an existing model that performs a similar task to the one you need\n",
        "to solve. This method of utilizing a pre-trained network for other similar tasks is broadly termed **Transfer\n",
        "Learning**. In this assignment, we will use Transfer Learning to extract features from the hand gesture\n",
        "images. Then, train a smaller network to use these features as input and classify the hand gestures.\n",
        "\n",
        "As you have learned from the CNN lecture, convolution layers extract various features from the images which\n",
        "get utilized by the fully connected layers for correct classification. AlexNet architecture played a pivotal\n",
        "role in establishing Deep Neural Nets as a go-to tool for image classification problems and we will use an\n",
        "ImageNet pre-trained AlexNet model to extract features in this assignment."
      ]
    },
    {
      "cell_type": "markdown",
      "metadata": {
        "id": "rWdQJz4Q7O2F"
      },
      "source": [
        "### Part (a) - 2 pt\n",
        "Here is the code to load the AlexNet network, with pretrained weights. When you first run the code, PyTorch\n",
        "will download the pretrained weights from the internet."
      ]
    },
    {
      "cell_type": "code",
      "execution_count": null,
      "metadata": {
        "id": "BJKcTW9C7TZk",
        "colab": {
          "base_uri": "https://localhost:8080/",
          "height": 158,
          "referenced_widgets": [
            "a33f868aea7c4408ad70654d854f2e7b",
            "2f62cf6e8d8547d2a05eab79b1b57a91",
            "c9b70d16eee14280a39214e3f10562dd",
            "2d039383bdc3418e90af1b7ec056e880",
            "ba828fc0acac4b3fb7ec304d74983c93",
            "affb43035d2245dab06e6248725300f5",
            "dea554bc5c7149e1bfdfe3fab5db9dcb",
            "30a38f53385b48188a686d938a3320a2",
            "8a3669c3223f4f5296b054359b9b3f8b",
            "fe02f8d7adb24c33914c6af1f6948f6f",
            "be30c12485784535be7dd7df4ac5c67c"
          ]
        },
        "outputId": "4d5f56ef-0e0b-4f23-8638-a0798efe69c7"
      },
      "outputs": [
        {
          "output_type": "stream",
          "name": "stderr",
          "text": [
            "/usr/local/lib/python3.7/dist-packages/torchvision/models/_utils.py:209: UserWarning: The parameter 'pretrained' is deprecated since 0.13 and will be removed in 0.15, please use 'weights' instead.\n",
            "  f\"The parameter '{pretrained_param}' is deprecated since 0.13 and will be removed in 0.15, \"\n",
            "/usr/local/lib/python3.7/dist-packages/torchvision/models/_utils.py:223: UserWarning: Arguments other than a weight enum or `None` for 'weights' are deprecated since 0.13 and will be removed in 0.15. The current behavior is equivalent to passing `weights=AlexNet_Weights.IMAGENET1K_V1`. You can also use `weights=AlexNet_Weights.DEFAULT` to get the most up-to-date weights.\n",
            "  warnings.warn(msg)\n",
            "Downloading: \"https://download.pytorch.org/models/alexnet-owt-7be5be79.pth\" to /root/.cache/torch/hub/checkpoints/alexnet-owt-7be5be79.pth\n"
          ]
        },
        {
          "output_type": "display_data",
          "data": {
            "text/plain": [
              "  0%|          | 0.00/233M [00:00<?, ?B/s]"
            ],
            "application/vnd.jupyter.widget-view+json": {
              "version_major": 2,
              "version_minor": 0,
              "model_id": "a33f868aea7c4408ad70654d854f2e7b"
            }
          },
          "metadata": {}
        }
      ],
      "source": [
        "import torchvision.models\n",
        "alexNet = torchvision.models.alexnet(pretrained=True)"
      ]
    },
    {
      "cell_type": "code",
      "source": [
        "alexNet"
      ],
      "metadata": {
        "id": "XdQYocSnU4i1",
        "outputId": "edfbe4b8-a42a-4768-de7b-f0759eb3a126",
        "colab": {
          "base_uri": "https://localhost:8080/"
        }
      },
      "execution_count": null,
      "outputs": [
        {
          "output_type": "execute_result",
          "data": {
            "text/plain": [
              "AlexNet(\n",
              "  (features): Sequential(\n",
              "    (0): Conv2d(3, 64, kernel_size=(11, 11), stride=(4, 4), padding=(2, 2))\n",
              "    (1): ReLU(inplace=True)\n",
              "    (2): MaxPool2d(kernel_size=3, stride=2, padding=0, dilation=1, ceil_mode=False)\n",
              "    (3): Conv2d(64, 192, kernel_size=(5, 5), stride=(1, 1), padding=(2, 2))\n",
              "    (4): ReLU(inplace=True)\n",
              "    (5): MaxPool2d(kernel_size=3, stride=2, padding=0, dilation=1, ceil_mode=False)\n",
              "    (6): Conv2d(192, 384, kernel_size=(3, 3), stride=(1, 1), padding=(1, 1))\n",
              "    (7): ReLU(inplace=True)\n",
              "    (8): Conv2d(384, 256, kernel_size=(3, 3), stride=(1, 1), padding=(1, 1))\n",
              "    (9): ReLU(inplace=True)\n",
              "    (10): Conv2d(256, 256, kernel_size=(3, 3), stride=(1, 1), padding=(1, 1))\n",
              "    (11): ReLU(inplace=True)\n",
              "    (12): MaxPool2d(kernel_size=3, stride=2, padding=0, dilation=1, ceil_mode=False)\n",
              "  )\n",
              "  (avgpool): AdaptiveAvgPool2d(output_size=(6, 6))\n",
              "  (classifier): Sequential(\n",
              "    (0): Dropout(p=0.5, inplace=False)\n",
              "    (1): Linear(in_features=9216, out_features=4096, bias=True)\n",
              "    (2): ReLU(inplace=True)\n",
              "    (3): Dropout(p=0.5, inplace=False)\n",
              "    (4): Linear(in_features=4096, out_features=4096, bias=True)\n",
              "    (5): ReLU(inplace=True)\n",
              "    (6): Linear(in_features=4096, out_features=1000, bias=True)\n",
              "  )\n",
              ")"
            ]
          },
          "metadata": {},
          "execution_count": 14
        }
      ]
    },
    {
      "cell_type": "markdown",
      "metadata": {
        "id": "NQ0GZYaP7VAR"
      },
      "source": [
        "The alexnet model is split up into two components: *alexnet.features* and *alexnet.classifier*. The\n",
        "first neural network component, *alexnet.features*, is used to compute convolutional features, which are\n",
        "taken as input in *alexnet.classifier*.\n",
        "\n",
        "The neural network alexnet.features expects an image tensor of shape Nx3x224x224 as input and it will\n",
        "output a tensor of shape Nx256x6x6 . (N = batch size).\n",
        "\n",
        "Compute the AlexNet features for each of your training, validation, and test data. Here is an example code\n",
        "snippet showing how you can compute the AlexNet features for some images (your actual code might be\n",
        "different):"
      ]
    },
    {
      "cell_type": "code",
      "source": [
        "#compute and save the AlexNext features for training data\n",
        "dataiter_train = iter(train_loader)\n",
        "train_images, labels = dataiter_train.next()\n",
        "train_features = alexNet.features(train_images)\n",
        "\n",
        "#get the shape for train_features\n",
        "train_features.shape"
      ],
      "metadata": {
        "colab": {
          "base_uri": "https://localhost:8080/"
        },
        "id": "Thgt7ur3ZQ2J",
        "outputId": "6df69f07-f6f6-487d-9efc-46cc10d47ff8"
      },
      "execution_count": null,
      "outputs": [
        {
          "output_type": "execute_result",
          "data": {
            "text/plain": [
              "torch.Size([64, 256, 6, 6])"
            ]
          },
          "metadata": {},
          "execution_count": 27
        }
      ]
    },
    {
      "cell_type": "code",
      "source": [
        "#compute and save the AlexNext features for validation data\n",
        "dataiter_val = iter(val_loader)\n",
        "val_images, labels = dataiter_val.next()\n",
        "val_features = alexNet.features(val_images)\n",
        "\n",
        "#get the shape for val_features\n",
        "val_features.shape"
      ],
      "metadata": {
        "colab": {
          "base_uri": "https://localhost:8080/"
        },
        "id": "TD9T-DLbhHZ0",
        "outputId": "d71016c6-436a-47f8-b6ba-9786d323c424"
      },
      "execution_count": null,
      "outputs": [
        {
          "output_type": "execute_result",
          "data": {
            "text/plain": [
              "torch.Size([64, 256, 6, 6])"
            ]
          },
          "metadata": {},
          "execution_count": 16
        }
      ]
    },
    {
      "cell_type": "code",
      "source": [
        "#compute and save the AlexNext features for testing data\n",
        "dataiter_test = iter(test_loader)\n",
        "test_images, labels = dataiter_test.next()\n",
        "test_features = alexNet.features(test_images)\n",
        "\n",
        "#get the shape for test_features\n",
        "test_features.shape"
      ],
      "metadata": {
        "colab": {
          "base_uri": "https://localhost:8080/"
        },
        "id": "hF6fDRDOhOlE",
        "outputId": "8501b815-5c23-4484-9de6-50eb51c60d86"
      },
      "execution_count": null,
      "outputs": [
        {
          "output_type": "execute_result",
          "data": {
            "text/plain": [
              "torch.Size([64, 256, 6, 6])"
            ]
          },
          "metadata": {},
          "execution_count": 17
        }
      ]
    },
    {
      "cell_type": "markdown",
      "metadata": {
        "id": "DYcjHg_A7cCM"
      },
      "source": [
        "**Save the computed features**. You will be using these features as input to your neural network in Part\n",
        "(b), and you do not want to re-compute the features every time. Instead, run *alexnet.features* once for\n",
        "each image, and save the result."
      ]
    },
    {
      "cell_type": "markdown",
      "metadata": {
        "id": "OFWvvhFN73qY"
      },
      "source": [
        "### Part (b) - 2 pt\n",
        "Build a convolutional neural network model that takes as input these AlexNet features, and makes a\n",
        "prediction. Your model should be a subclass of nn.Module.\n",
        "\n",
        "Explain your choice of neural network architecture: how many layers did you choose? What types of layers\n",
        "did you use: fully-connected or convolutional? What about other decisions like pooling layers, activation\n",
        "functions, number of channels / hidden units in each layer?\n",
        "\n",
        "Here is an example of how your model may be called:"
      ]
    },
    {
      "cell_type": "code",
      "source": [
        "class alexNetClassifier(nn.Module):\n",
        "    def __init__(self, num_fc):\n",
        "      super(alexNetClassifier, self).__init__()\n",
        "\n",
        "      self.conv = nn.Conv2d(256, 10, 2) # 4*4*10\n",
        "      self.pool = nn.MaxPool2d(2, 2)\n",
        "\n",
        "      self.fc1 = nn.Linear(2*2*10, num_fc)\n",
        "      self.fc2 = nn.Linear(num_fc, 9)\n",
        "\n",
        "    def forward(self, x):\n",
        "\n",
        "      x = self.pool(F.relu(self.conv(x)))\n",
        "\n",
        "      x = x.view(-1, 2*2*10)\n",
        "      x = self.fc1(x)\n",
        "      x = self.fc2(x)\n",
        "      x = x.squeeze(1)\n",
        "      return x"
      ],
      "metadata": {
        "id": "TlltDnkWi54x"
      },
      "execution_count": null,
      "outputs": []
    },
    {
      "cell_type": "markdown",
      "source": [
        "The model using one convolutional layer, one pooling layer and two fully-connected layers.\n",
        "1. convolution layer with 256 input channels, 10 output channels and kernel size = 2;\n",
        "2. then there was an activation ReLU();\n",
        "3. pooling layer with kernel size = 2 and stride = 2;\n",
        "4. fully-connected layer with input $2*2*10$ and output `num_fc`\n",
        "5. fully-connected layer with input `num_fc` and output.\n",
        "\n"
      ],
      "metadata": {
        "id": "Cmw1t4Jr1Ko7"
      }
    },
    {
      "cell_type": "code",
      "source": [
        "def get_accuracy(model, train=False):\n",
        "    if train:\n",
        "        data_loader = train_loader\n",
        "    else:\n",
        "        data_loader = val_loader\n",
        "\n",
        "    correct = 0\n",
        "    total = 0\n",
        "    for imgs, labels in data_loader:\n",
        "\n",
        "        imgs = alexNet.features(imgs)\n",
        "        #############################################\n",
        "        #To Enable GPU Usage\n",
        "        if use_cuda and torch.cuda.is_available():\n",
        "          imgs = imgs.cuda()\n",
        "          labels = labels.cuda()\n",
        "        #############################################\n",
        "\n",
        "\n",
        "        output = model(imgs)\n",
        "\n",
        "        #select index with maximum prediction score\n",
        "        pred = output.max(1, keepdim=True)[1]\n",
        "        correct += pred.eq(labels.view_as(pred)).sum().item()\n",
        "        total += imgs.shape[0]\n",
        "    return correct / total"
      ],
      "metadata": {
        "id": "IOWmZUAbmqFO"
      },
      "execution_count": null,
      "outputs": []
    },
    {
      "cell_type": "code",
      "source": [
        "def train(model, data, batch_size=64, num_epochs=1):\n",
        "    #train_loader = torch.utils.data.DataLoader(data, batch_size=batch_size)\n",
        "    train_loader = torch.utils.data.DataLoader(train_data, batch_size=batch_size,\n",
        "                                           num_workers=num_workers, shuffle=True)\n",
        "    criterion = nn.CrossEntropyLoss()\n",
        "    optimizer = optim.SGD(model.parameters(), lr=0.01, momentum=0.9)\n",
        "\n",
        "    iters, losses, train_acc, val_acc = [], [], [], []\n",
        "\n",
        "    # training\n",
        "    n = 0 # the number of iterations\n",
        "    for epoch in range(num_epochs):\n",
        "        for imgs, labels in iter(train_loader):\n",
        "\n",
        "            imgs = features = alexNet.features(imgs)\n",
        "            print(n)\n",
        "            #############################################\n",
        "            #To Enable GPU Usage\n",
        "            if use_cuda and torch.cuda.is_available():\n",
        "              imgs = imgs.cuda()\n",
        "              labels = labels.cuda()\n",
        "            #############################################\n",
        "\n",
        "\n",
        "            out = model(imgs)             # forward pass\n",
        "            loss = criterion(out, labels) # compute the total loss\n",
        "            loss.backward()               # backward pass (compute parameter updates)\n",
        "            optimizer.step()              # make the updates for each parameter\n",
        "            optimizer.zero_grad()         # a clean up step for PyTorch\n",
        "\n",
        "            # save the current training information\n",
        "            iters.append(n)\n",
        "            losses.append(float(loss)/batch_size)             # compute *average* loss\n",
        "            train_acc.append(get_accuracy(model, train=True)) # compute training accuracy\n",
        "            val_acc.append(get_accuracy(model, train=False))  # compute validation accuracy\n",
        "            n += 1\n",
        "\n",
        "    # plotting\n",
        "    plt.title(\"Training Curve\")\n",
        "    plt.plot(iters, losses, label=\"Train\")\n",
        "    plt.xlabel(\"Iterations\")\n",
        "    plt.ylabel(\"Loss\")\n",
        "    plt.show()\n",
        "\n",
        "    plt.title(\"Training Curve\")\n",
        "    plt.plot(iters, train_acc, label=\"Train\")\n",
        "    plt.plot(iters, val_acc, label=\"Validation\")\n",
        "    plt.xlabel(\"Iterations\")\n",
        "    plt.ylabel(\"Training Accuracy\")\n",
        "    plt.legend(loc='best')\n",
        "    plt.show()\n",
        "\n",
        "    print(\"Final Training Accuracy: {}\".format(train_acc[-1]))\n",
        "    print(\"Final Validation Accuracy: {}\".format(val_acc[-1]))"
      ],
      "metadata": {
        "id": "woKgvhs_ojji"
      },
      "execution_count": null,
      "outputs": []
    },
    {
      "cell_type": "markdown",
      "metadata": {
        "id": "wVAGuURu7-9q"
      },
      "source": [
        "### Part (c) - 2 pt\n",
        "Train your new network, including any hyperparameter tuning. Plot and submit the training curve of your\n",
        "best model only.\n",
        "\n",
        "Note: Depending on how you are caching (saving) your AlexNet features, PyTorch might still be tracking\n",
        "updates to the **AlexNet weights**, which we are not tuning. One workaround is to convert your AlexNet\n",
        "feature tensor into a numpy array, and then back into a PyTorch tensor."
      ]
    },
    {
      "cell_type": "code",
      "source": [
        "#num_fc = 10\n",
        "use_cuda = True\n",
        "\n",
        "model = alexNetClassifier(num_fc=10)\n",
        "\n",
        "if use_cuda and torch.cuda.is_available():\n",
        "  model.cuda()\n",
        "  print('CUDA is available!  Training on GPU ...')\n",
        "else:\n",
        "  print('CUDA is not available.  Training on CPU ...')\n",
        "\n",
        "#proper model\n",
        "train(model, [], num_epochs=1)"
      ],
      "metadata": {
        "id": "gg2S9DjwMFOQ",
        "colab": {
          "base_uri": "https://localhost:8080/",
          "height": 1000
        },
        "outputId": "5859b5b5-cc07-4fa8-9ed3-6ae69ca40635"
      },
      "execution_count": null,
      "outputs": [
        {
          "output_type": "stream",
          "name": "stdout",
          "text": [
            "CUDA is available!  Training on GPU ...\n",
            "0\n",
            "1\n",
            "2\n",
            "3\n",
            "4\n",
            "5\n",
            "6\n",
            "7\n",
            "8\n",
            "9\n",
            "10\n",
            "11\n",
            "12\n",
            "13\n",
            "14\n",
            "15\n",
            "16\n",
            "17\n",
            "18\n",
            "19\n",
            "20\n",
            "21\n",
            "22\n",
            "23\n",
            "24\n",
            "25\n"
          ]
        },
        {
          "output_type": "display_data",
          "data": {
            "text/plain": [
              "<Figure size 432x288 with 1 Axes>"
            ],
            "image/png": "[encoded data removed]"
          },
          "metadata": {
            "needs_background": "light"
          }
        },
        {
          "output_type": "display_data",
          "data": {
            "text/plain": [
              "<Figure size 432x288 with 1 Axes>"
            ],
            "image/png": "[encoded data removed]"
          },
          "metadata": {
            "needs_background": "light"
          }
        },
        {
          "output_type": "stream",
          "name": "stdout",
          "text": [
            "Final Training Accuracy: 0.31402439024390244\n",
            "Final Validation Accuracy: 0.32172131147540983\n"
          ]
        }
      ]
    },
    {
      "cell_type": "code",
      "source": [
        "#best model training and plot\n",
        "use_cuda = True\n",
        "\n",
        "model = alexNetClassifier(num_fc=25)\n",
        "\n",
        "if use_cuda and torch.cuda.is_available():\n",
        "  model.cuda()\n",
        "  print('CUDA is available!  Training on GPU ...')\n",
        "else:\n",
        "  print('CUDA is not available.  Training on CPU ...')\n",
        "\n",
        "#proper model\n",
        "train(model, [], num_epochs=1)"
      ],
      "metadata": {
        "colab": {
          "base_uri": "https://localhost:8080/",
          "height": 1000
        },
        "id": "hA6pOmtbDBNx",
        "outputId": "c4c2b5ff-57c8-4745-b312-6c22d8417142"
      },
      "execution_count": null,
      "outputs": [
        {
          "output_type": "stream",
          "name": "stdout",
          "text": [
            "CUDA is available!  Training on GPU ...\n",
            "0\n",
            "1\n",
            "2\n",
            "3\n",
            "4\n",
            "5\n",
            "6\n",
            "7\n",
            "8\n",
            "9\n",
            "10\n",
            "11\n",
            "12\n",
            "13\n",
            "14\n",
            "15\n",
            "16\n",
            "17\n",
            "18\n",
            "19\n",
            "20\n",
            "21\n",
            "22\n",
            "23\n",
            "24\n",
            "25\n"
          ]
        },
        {
          "output_type": "display_data",
          "data": {
            "text/plain": [
              "<Figure size 432x288 with 1 Axes>"
            ],
            "image/png": "[encoded data removed]"
          },
          "metadata": {
            "needs_background": "light"
          }
        },
        {
          "output_type": "display_data",
          "data": {
            "text/plain": [
              "<Figure size 432x288 with 1 Axes>"
            ],
            "image/png": "[encoded data removed]"
          },
          "metadata": {
            "needs_background": "light"
          }
        },
        {
          "output_type": "stream",
          "name": "stdout",
          "text": [
            "Final Training Accuracy: 0.6871951219512196\n",
            "Final Validation Accuracy: 0.6967213114754098\n"
          ]
        }
      ]
    },
    {
      "cell_type": "markdown",
      "source": [
        "From the output above, the best model is `alexNetClassifier(num_fc=25)`, with `num_epoch` = 1.\n"
      ],
      "metadata": {
        "id": "aUxiUtU70y9I"
      }
    },
    {
      "cell_type": "markdown",
      "metadata": {
        "id": "hQ2tvqJ68Mqb"
      },
      "source": [
        "### Part (d) - 2 pt\n",
        "Report the test accuracy of your best model. How does the test accuracy compare to Part 3(d) without transfer learning?"
      ]
    },
    {
      "cell_type": "markdown",
      "source": [
        "In this part, since we are focus on the training accuracy and testing accuracy, so we modify our function for getting accuracy and training function, and get two new function `get_accuracy_new` and `train_new`."
      ],
      "metadata": {
        "id": "UAN9_pd2Rhtn"
      }
    },
    {
      "cell_type": "code",
      "source": [
        "def get_accuracy_new(model, train=False):\n",
        "    if train:\n",
        "        data_loader = train_loader\n",
        "    else:\n",
        "        data_loader = test_loader #change 1: use test_loader instead of val_loader.\n",
        "\n",
        "    correct = 0\n",
        "    total = 0\n",
        "    for imgs, labels in data_loader:\n",
        "\n",
        "        imgs = alexNet.features(imgs)\n",
        "        #############################################\n",
        "        #To Enable GPU Usage\n",
        "        if use_cuda and torch.cuda.is_available():\n",
        "          imgs = imgs.cuda()\n",
        "          labels = labels.cuda()\n",
        "        #############################################\n",
        "\n",
        "        output = model(imgs)\n",
        "\n",
        "        #select index with maximum prediction score\n",
        "        pred = output.max(1, keepdim=True)[1]\n",
        "        correct += pred.eq(labels.view_as(pred)).sum().item()\n",
        "        total += imgs.shape[0]\n",
        "    return correct / total"
      ],
      "metadata": {
        "id": "R1bCALA7Kjd7"
      },
      "execution_count": null,
      "outputs": []
    },
    {
      "cell_type": "code",
      "source": [
        "def train_new(model, data, batch_size=64, num_epochs=1):\n",
        "    #train_loader = torch.utils.data.DataLoader(data, batch_size=batch_size)\n",
        "    torch.manual_seed(1)\n",
        "    train_loader = torch.utils.data.DataLoader(train_data, batch_size=batch_size,\n",
        "                                           num_workers=num_workers, shuffle=True)\n",
        "    criterion = nn.CrossEntropyLoss()\n",
        "    optimizer = optim.SGD(model.parameters(), lr=0.01, momentum=0.9)\n",
        "\n",
        "    iters, losses, train_acc, test_acc = [], [], [], [] #change 2 initialize test_acc instead of val_acc\n",
        "\n",
        "    # training\n",
        "    n = 0 # the number of iterations\n",
        "    for epoch in range(num_epochs):\n",
        "        for imgs, labels in iter(train_loader):\n",
        "\n",
        "            imgs = features = alexNet.features(imgs)\n",
        "            print(n)\n",
        "            #############################################\n",
        "            #To Enable GPU Usage\n",
        "            if use_cuda and torch.cuda.is_available():\n",
        "              imgs = imgs.cuda()\n",
        "              labels = labels.cuda()\n",
        "            #############################################\n",
        "\n",
        "            out = model(imgs)             # forward pass\n",
        "            loss = criterion(out, labels) # compute the total loss\n",
        "            loss.backward()               # backward pass (compute parameter updates)\n",
        "            optimizer.step()              # make the updates for each parameter\n",
        "            optimizer.zero_grad()         # a clean up step for PyTorch\n",
        "\n",
        "            # save the current training information\n",
        "            iters.append(n)\n",
        "            losses.append(float(loss)/batch_size)                 # compute *average* loss\n",
        "            train_acc.append(get_accuracy_new(model, train=True)) # compute training accuracy (change 3-1: get_accuracy_new)\n",
        "            test_acc.append(get_accuracy_new(model, train=False)) # compute testing accuracy (change 3-2: get_accuracy_new)\n",
        "            n += 1\n",
        "\n",
        "    print(\"Final Training Accuracy: {}\".format(train_acc[-1]))\n",
        "    print(\"Final Testing Accuracy: {}\".format(test_acc[-1]))"
      ],
      "metadata": {
        "id": "dtD1oU8wKrbq"
      },
      "execution_count": null,
      "outputs": []
    },
    {
      "cell_type": "code",
      "source": [
        "use_cuda = True\n",
        "\n",
        "model = alexNetClassifier(num_fc=25)\n",
        "\n",
        "if use_cuda and torch.cuda.is_available():\n",
        "  model.cuda()\n",
        "  print('CUDA is available!  Training on GPU ...')\n",
        "else:\n",
        "  print('CUDA is not available.  Training on CPU ...')\n",
        "\n",
        "train_new(model, [], num_epochs=1)"
      ],
      "metadata": {
        "colab": {
          "base_uri": "https://localhost:8080/"
        },
        "id": "kHdg5cI5j1Aq",
        "outputId": "aab01802-8fbb-4e88-e148-ac72d310ce09"
      },
      "execution_count": null,
      "outputs": [
        {
          "output_type": "stream",
          "name": "stdout",
          "text": [
            "CUDA is available!  Training on GPU ...\n",
            "0\n",
            "1\n",
            "2\n",
            "3\n",
            "4\n",
            "5\n",
            "6\n",
            "7\n",
            "8\n",
            "9\n",
            "10\n",
            "11\n",
            "12\n",
            "13\n",
            "14\n",
            "15\n",
            "16\n",
            "17\n",
            "18\n",
            "19\n",
            "20\n",
            "21\n",
            "22\n",
            "23\n",
            "24\n",
            "25\n",
            "Final Training Accuracy: 0.6024390243902439\n",
            "Final Testing Accuracy: 0.6072607260726073\n"
          ]
        }
      ]
    },
    {
      "cell_type": "markdown",
      "source": [
        "The test accuracy of best model is 60.73%, which is higher than our best model in part 3(d) without transfer learning with accuracy 11.55%."
      ],
      "metadata": {
        "id": "GlcBb9bM0Oex"
      }
    },
    {
      "cell_type": "markdown",
      "metadata": {
        "id": "XrDPb0orGZYJ"
      },
      "source": [
        "### Part 5. Testing on New Data [10 pt]\n",
        "As a final step in testing we will be revisiting the sample images that you had collected and submitted with your lab. These sample images should be untouched and will be used to demonstrate how well your model works at identifying your hand guestures.\n",
        "\n"
      ]
    },
    {
      "cell_type": "markdown",
      "metadata": {
        "id": "xbr3oincqoJd"
      },
      "source": [
        "### Part (a) - 3 pt\n",
        "Load and process the hand gesture images you had collected so that they can easily be evaulated by your model."
      ]
    },
    {
      "cell_type": "code",
      "execution_count": null,
      "metadata": {
        "id": "h2s4M5ujqoJd"
      },
      "outputs": [],
      "source": [
        "test_data_dir = '/content/drive/My Drive/gest_data'\n",
        "data_transform = transforms.Compose([transforms.Resize((224,224)),\n",
        "transforms.ToTensor(),\n",
        "])\n",
        "\n",
        "classes = ['A', 'B', 'C', 'D', 'E', 'F', 'G', 'H', 'I']\n",
        "gesture_data = datasets.ImageFolder(test_data_dir, transform=data_transform)"
      ]
    },
    {
      "cell_type": "code",
      "source": [
        "print('Num hand gesture images: ', len(gesture_data))"
      ],
      "metadata": {
        "colab": {
          "base_uri": "https://localhost:8080/"
        },
        "id": "4mi9EHbSYbKX",
        "outputId": "02a6346a-0fc4-4146-a4a2-8d0d141dfeda"
      },
      "execution_count": null,
      "outputs": [
        {
          "output_type": "stream",
          "name": "stdout",
          "text": [
            "Num training images:  27\n"
          ]
        }
      ]
    },
    {
      "cell_type": "code",
      "source": [
        "batch_size = 64\n",
        "num_workers = 0\n",
        "gesture_data_loader = torch.utils.data.DataLoader(gesture_data, batch_size=batch_size,shuffle = True)"
      ],
      "metadata": {
        "id": "NmpMxgHjYjrh"
      },
      "execution_count": null,
      "outputs": []
    },
    {
      "cell_type": "code",
      "source": [
        "torch.manual_seed(1)\n",
        "dataiter_gesture = iter(gesture_data_loader)\n",
        "images_gesture, labels_gesture = dataiter_gesture.next()"
      ],
      "metadata": {
        "id": "DY_ozt7WY1Lv"
      },
      "execution_count": null,
      "outputs": []
    },
    {
      "cell_type": "code",
      "source": [
        "alexNet = torchvision.models.alexnet(pretrained=True)\n",
        "features_gesture = alexNet.features(images_gesture)\n",
        "features_gesture.shape"
      ],
      "metadata": {
        "colab": {
          "base_uri": "https://localhost:8080/"
        },
        "id": "kddzEGbkZLj2",
        "outputId": "b4f05ac8-d5fd-4c3b-9117-81ca38eed5c6"
      },
      "execution_count": null,
      "outputs": [
        {
          "output_type": "stream",
          "name": "stderr",
          "text": [
            "/usr/local/lib/python3.7/dist-packages/torchvision/models/_utils.py:209: UserWarning: The parameter 'pretrained' is deprecated since 0.13 and will be removed in 0.15, please use 'weights' instead.\n",
            "  f\"The parameter '{pretrained_param}' is deprecated since 0.13 and will be removed in 0.15, \"\n",
            "/usr/local/lib/python3.7/dist-packages/torchvision/models/_utils.py:223: UserWarning: Arguments other than a weight enum or `None` for 'weights' are deprecated since 0.13 and will be removed in 0.15. The current behavior is equivalent to passing `weights=AlexNet_Weights.IMAGENET1K_V1`. You can also use `weights=AlexNet_Weights.DEFAULT` to get the most up-to-date weights.\n",
            "  warnings.warn(msg)\n"
          ]
        },
        {
          "output_type": "execute_result",
          "data": {
            "text/plain": [
              "torch.Size([27, 256, 6, 6])"
            ]
          },
          "metadata": {},
          "execution_count": 51
        }
      ]
    },
    {
      "cell_type": "markdown",
      "metadata": {
        "id": "DgtlGGByqoJd"
      },
      "source": [
        "### Part (b) - 7 pt\n",
        "Using the best transfer learning model developed in Part 4. Report the test accuracy on your sample images and how it compares to the test accuracy obtained in Part 4(d)? How well did your model do for the different hand guestures? Provide an explanation for why you think your model performed the way it did?  \n",
        "\n",
        "This question will also be evaluated on the overal performance achieved."
      ]
    },
    {
      "cell_type": "markdown",
      "source": [
        "Sol: Since we are testing on our sample images, first we need to update our `get_accuracy_new`: if train = False, `data_loader` = `gesture_data_loader`."
      ],
      "metadata": {
        "id": "rZm3xuL-dd52"
      }
    },
    {
      "cell_type": "code",
      "source": [
        "def get_accuracy_new(model, train=False):\n",
        "    if train:\n",
        "        data_loader = train_loader\n",
        "    else:\n",
        "        data_loader = gesture_data_loader    #change for testing on our sample images.\n",
        "\n",
        "    correct = 0\n",
        "    total = 0\n",
        "    for imgs, labels in data_loader:\n",
        "\n",
        "        imgs = alexNet.features(imgs)\n",
        "        #############################################\n",
        "        #To Enable GPU Usage\n",
        "        if use_cuda and torch.cuda.is_available():\n",
        "          imgs = imgs.cuda()\n",
        "          labels = labels.cuda()\n",
        "        #############################################\n",
        "\n",
        "\n",
        "        output = model(imgs)\n",
        "\n",
        "        #select index with maximum prediction score\n",
        "        pred = output.max(1, keepdim=True)[1]\n",
        "        correct += pred.eq(labels.view_as(pred)).sum().item()\n",
        "        total += imgs.shape[0]\n",
        "    return correct / total"
      ],
      "metadata": {
        "id": "GJdiC1bUcmac"
      },
      "execution_count": null,
      "outputs": []
    },
    {
      "cell_type": "code",
      "execution_count": null,
      "metadata": {
        "id": "T7TtVboNqoJd",
        "colab": {
          "base_uri": "https://localhost:8080/"
        },
        "outputId": "4ef16f90-a712-4762-b31d-6ee3413ad0d9"
      },
      "outputs": [
        {
          "output_type": "stream",
          "name": "stdout",
          "text": [
            "CUDA is available!  Training on GPU ...\n",
            "0\n",
            "1\n",
            "2\n",
            "3\n",
            "4\n",
            "5\n",
            "6\n",
            "7\n",
            "8\n",
            "9\n",
            "10\n",
            "11\n",
            "12\n",
            "13\n",
            "14\n",
            "15\n",
            "16\n",
            "17\n",
            "18\n",
            "19\n",
            "20\n",
            "21\n",
            "22\n",
            "23\n",
            "24\n",
            "25\n",
            "Final Training Accuracy: 0.7939024390243903\n",
            "Final Testing Accuracy: 0.8518518518518519\n"
          ]
        }
      ],
      "source": [
        "use_cuda = True\n",
        "\n",
        "model = alexNetClassifier(num_fc=25)\n",
        "\n",
        "if use_cuda and torch.cuda.is_available():\n",
        "  model.cuda()\n",
        "  print('CUDA is available!  Training on GPU ...')\n",
        "else:\n",
        "  print('CUDA is not available.  Training on CPU ...')\n",
        "\n",
        "train_new(model, [], num_epochs=1)"
      ]
    },
    {
      "cell_type": "markdown",
      "source": [
        "In the part4(d), the testing accuracy is 60.73%, the testing accuracy on our sample images is 85.19%. The testing accuracy in part4(d) is lower than the accuracy using our own sample images.\n",
        "\n",
        "This difference in accuracy may be due to the variance in images (e.g. images' quality, hand position) between testing data. The testing data provided in this lab is collected from different students, while all of our own sample images are from one person. The variance in images' quality between our sample images are small."
      ],
      "metadata": {
        "id": "mmxWcBs_iHbl"
      }
    },
    {
      "cell_type": "markdown",
      "metadata": {
        "id": "FYwI4RmFS2RB"
      },
      "source": [
        "### Saving to HTML\n",
        "Detailed instructions for saving to HTML can be found <a href=\"https://stackoverflow.com/questions/53460051/convert-ipynb-notebook-to-html-in-google-colab/64487858#64487858\">here</a>. Provided below are a summary of the instructions:\n",
        "\n",
        "(1) download your ipynb file by clicking on File->Download.ipynb\n",
        "\n",
        "(2) reupload your file to the temporary Google Colab storage (you can access the temporary storage from the tab to the left)\n",
        "\n",
        "(3) run the following:"
      ]
    },
    {
      "cell_type": "code",
      "execution_count": null,
      "metadata": {
        "id": "2TrsqdNgS5ex",
        "colab": {
          "base_uri": "https://localhost:8080/"
        },
        "outputId": "9002c3d9-4e94-4342-d83e-8a18d451ce59"
      },
      "outputs": [
        {
          "output_type": "stream",
          "name": "stdout",
          "text": [
            "[NbConvertApp] Converting notebook /content/LAB_2_Hand_Gesture_Xiaotong_Liu_1.ipynb to html\n",
            "[NbConvertApp] ERROR | Notebook JSON is invalid: Additional properties are not allowed ('metadata' was unexpected)\n",
            "\n",
            "Failed validating 'additionalProperties' in stream:\n",
            "\n",
            "On instance['cells'][36]['outputs'][0]:\n",
            "{'metadata': {'tags': None},\n",
            " 'name': 'stdout',\n",
            " 'output_type': 'stream',\n",
            " 'text': 'CUDA is available!  Training on GPU ...\\n'}\n",
            "[NbConvertApp] Writing 843341 bytes to /content/LAB_2_Hand_Gesture_Xiaotong_Liu_1.html\n"
          ]
        },
        {
          "output_type": "execute_result",
          "data": {
            "text/plain": []
          },
          "metadata": {},
          "execution_count": 1
        }
      ],
      "source": [
        "%%shell\n",
        "jupyter nbconvert --to html /content/LAB_2_Hand_Gesture_Xiaotong_Liu_1.ipynb"
      ]
    },
    {
      "cell_type": "markdown",
      "metadata": {
        "id": "nuXhlFlPTY7F"
      },
      "source": [
        "(4) the html file will be available for download in the temporary Google Colab storage\n",
        "\n",
        "(5) review the html file and make sure all the results are visible before submitting your assignment to Quercus"
      ]
    }
  ],
  "metadata": {
    "colab": {
      "provenance": []
    },
    "kernelspec": {
      "display_name": "Python 3",
      "language": "python",
      "name": "python3"
    },
    "language_info": {
      "codemirror_mode": {
        "name": "ipython",
        "version": 3
      },
      "file_extension": ".py",
      "mimetype": "text/x-python",
      "name": "python",
      "nbconvert_exporter": "python",
      "pygments_lexer": "ipython3",
      "version": "3.7.4"
    },
    "accelerator": "GPU",
    "widgets": {
      "application/vnd.jupyter.widget-state+json": {
        "a33f868aea7c4408ad70654d854f2e7b": {
          "model_module": "@jupyter-widgets/controls",
          "model_name": "HBoxModel",
          "model_module_version": "1.5.0",
          "state": {
            "_dom_classes": [],
            "_model_module": "@jupyter-widgets/controls",
            "_model_module_version": "1.5.0",
            "_model_name": "HBoxModel",
            "_view_count": null,
            "_view_module": "@jupyter-widgets/controls",
            "_view_module_version": "1.5.0",
            "_view_name": "HBoxView",
            "box_style": "",
            "children": [
              "IPY_MODEL_2f62cf6e8d8547d2a05eab79b1b57a91",
              "IPY_MODEL_c9b70d16eee14280a39214e3f10562dd",
              "IPY_MODEL_2d039383bdc3418e90af1b7ec056e880"
            ],
            "layout": "IPY_MODEL_ba828fc0acac4b3fb7ec304d74983c93"
          }
        },
        "2f62cf6e8d8547d2a05eab79b1b57a91": {
          "model_module": "@jupyter-widgets/controls",
          "model_name": "HTMLModel",
          "model_module_version": "1.5.0",
          "state": {
            "_dom_classes": [],
            "_model_module": "@jupyter-widgets/controls",
            "_model_module_version": "1.5.0",
            "_model_name": "HTMLModel",
            "_view_count": null,
            "_view_module": "@jupyter-widgets/controls",
            "_view_module_version": "1.5.0",
            "_view_name": "HTMLView",
            "description": "",
            "description_tooltip": null,
            "layout": "IPY_MODEL_affb43035d2245dab06e6248725300f5",
            "placeholder": "​",
            "style": "IPY_MODEL_dea554bc5c7149e1bfdfe3fab5db9dcb",
            "value": "100%"
          }
        },
        "c9b70d16eee14280a39214e3f10562dd": {
          "model_module": "@jupyter-widgets/controls",
          "model_name": "FloatProgressModel",
          "model_module_version": "1.5.0",
          "state": {
            "_dom_classes": [],
            "_model_module": "@jupyter-widgets/controls",
            "_model_module_version": "1.5.0",
            "_model_name": "FloatProgressModel",
            "_view_count": null,
            "_view_module": "@jupyter-widgets/controls",
            "_view_module_version": "1.5.0",
            "_view_name": "ProgressView",
            "bar_style": "success",
            "description": "",
            "description_tooltip": null,
            "layout": "IPY_MODEL_30a38f53385b48188a686d938a3320a2",
            "max": 244408911,
            "min": 0,
            "orientation": "horizontal",
            "style": "IPY_MODEL_8a3669c3223f4f5296b054359b9b3f8b",
            "value": 244408911
          }
        },
        "2d039383bdc3418e90af1b7ec056e880": {
          "model_module": "@jupyter-widgets/controls",
          "model_name": "HTMLModel",
          "model_module_version": "1.5.0",
          "state": {
            "_dom_classes": [],
            "_model_module": "@jupyter-widgets/controls",
            "_model_module_version": "1.5.0",
            "_model_name": "HTMLModel",
            "_view_count": null,
            "_view_module": "@jupyter-widgets/controls",
            "_view_module_version": "1.5.0",
            "_view_name": "HTMLView",
            "description": "",
            "description_tooltip": null,
            "layout": "IPY_MODEL_fe02f8d7adb24c33914c6af1f6948f6f",
            "placeholder": "​",
            "style": "IPY_MODEL_be30c12485784535be7dd7df4ac5c67c",
            "value": " 233M/233M [00:03&lt;00:00, 86.3MB/s]"
          }
        },
        "ba828fc0acac4b3fb7ec304d74983c93": {
          "model_module": "@jupyter-widgets/base",
          "model_name": "LayoutModel",
          "model_module_version": "1.2.0",
          "state": {
            "_model_module": "@jupyter-widgets/base",
            "_model_module_version": "1.2.0",
            "_model_name": "LayoutModel",
            "_view_count": null,
            "_view_module": "@jupyter-widgets/base",
            "_view_module_version": "1.2.0",
            "_view_name": "LayoutView",
            "align_content": null,
            "align_items": null,
            "align_self": null,
            "border": null,
            "bottom": null,
            "display": null,
            "flex": null,
            "flex_flow": null,
            "grid_area": null,
            "grid_auto_columns": null,
            "grid_auto_flow": null,
            "grid_auto_rows": null,
            "grid_column": null,
            "grid_gap": null,
            "grid_row": null,
            "grid_template_areas": null,
            "grid_template_columns": null,
            "grid_template_rows": null,
            "height": null,
            "justify_content": null,
            "justify_items": null,
            "left": null,
            "margin": null,
            "max_height": null,
            "max_width": null,
            "min_height": null,
            "min_width": null,
            "object_fit": null,
            "object_position": null,
            "order": null,
            "overflow": null,
            "overflow_x": null,
            "overflow_y": null,
            "padding": null,
            "right": null,
            "top": null,
            "visibility": null,
            "width": null
          }
        },
        "affb43035d2245dab06e6248725300f5": {
          "model_module": "@jupyter-widgets/base",
          "model_name": "LayoutModel",
          "model_module_version": "1.2.0",
          "state": {
            "_model_module": "@jupyter-widgets/base",
            "_model_module_version": "1.2.0",
            "_model_name": "LayoutModel",
            "_view_count": null,
            "_view_module": "@jupyter-widgets/base",
            "_view_module_version": "1.2.0",
            "_view_name": "LayoutView",
            "align_content": null,
            "align_items": null,
            "align_self": null,
            "border": null,
            "bottom": null,
            "display": null,
            "flex": null,
            "flex_flow": null,
            "grid_area": null,
            "grid_auto_columns": null,
            "grid_auto_flow": null,
            "grid_auto_rows": null,
            "grid_column": null,
            "grid_gap": null,
            "grid_row": null,
            "grid_template_areas": null,
            "grid_template_columns": null,
            "grid_template_rows": null,
            "height": null,
            "justify_content": null,
            "justify_items": null,
            "left": null,
            "margin": null,
            "max_height": null,
            "max_width": null,
            "min_height": null,
            "min_width": null,
            "object_fit": null,
            "object_position": null,
            "order": null,
            "overflow": null,
            "overflow_x": null,
            "overflow_y": null,
            "padding": null,
            "right": null,
            "top": null,
            "visibility": null,
            "width": null
          }
        },
        "dea554bc5c7149e1bfdfe3fab5db9dcb": {
          "model_module": "@jupyter-widgets/controls",
          "model_name": "DescriptionStyleModel",
          "model_module_version": "1.5.0",
          "state": {
            "_model_module": "@jupyter-widgets/controls",
            "_model_module_version": "1.5.0",
            "_model_name": "DescriptionStyleModel",
            "_view_count": null,
            "_view_module": "@jupyter-widgets/base",
            "_view_module_version": "1.2.0",
            "_view_name": "StyleView",
            "description_width": ""
          }
        },
        "30a38f53385b48188a686d938a3320a2": {
          "model_module": "@jupyter-widgets/base",
          "model_name": "LayoutModel",
          "model_module_version": "1.2.0",
          "state": {
            "_model_module": "@jupyter-widgets/base",
            "_model_module_version": "1.2.0",
            "_model_name": "LayoutModel",
            "_view_count": null,
            "_view_module": "@jupyter-widgets/base",
            "_view_module_version": "1.2.0",
            "_view_name": "LayoutView",
            "align_content": null,
            "align_items": null,
            "align_self": null,
            "border": null,
            "bottom": null,
            "display": null,
            "flex": null,
            "flex_flow": null,
            "grid_area": null,
            "grid_auto_columns": null,
            "grid_auto_flow": null,
            "grid_auto_rows": null,
            "grid_column": null,
            "grid_gap": null,
            "grid_row": null,
            "grid_template_areas": null,
            "grid_template_columns": null,
            "grid_template_rows": null,
            "height": null,
            "justify_content": null,
            "justify_items": null,
            "left": null,
            "margin": null,
            "max_height": null,
            "max_width": null,
            "min_height": null,
            "min_width": null,
            "object_fit": null,
            "object_position": null,
            "order": null,
            "overflow": null,
            "overflow_x": null,
            "overflow_y": null,
            "padding": null,
            "right": null,
            "top": null,
            "visibility": null,
            "width": null
          }
        },
        "8a3669c3223f4f5296b054359b9b3f8b": {
          "model_module": "@jupyter-widgets/controls",
          "model_name": "ProgressStyleModel",
          "model_module_version": "1.5.0",
          "state": {
            "_model_module": "@jupyter-widgets/controls",
            "_model_module_version": "1.5.0",
            "_model_name": "ProgressStyleModel",
            "_view_count": null,
            "_view_module": "@jupyter-widgets/base",
            "_view_module_version": "1.2.0",
            "_view_name": "StyleView",
            "bar_color": null,
            "description_width": ""
          }
        },
        "fe02f8d7adb24c33914c6af1f6948f6f": {
          "model_module": "@jupyter-widgets/base",
          "model_name": "LayoutModel",
          "model_module_version": "1.2.0",
          "state": {
            "_model_module": "@jupyter-widgets/base",
            "_model_module_version": "1.2.0",
            "_model_name": "LayoutModel",
            "_view_count": null,
            "_view_module": "@jupyter-widgets/base",
            "_view_module_version": "1.2.0",
            "_view_name": "LayoutView",
            "align_content": null,
            "align_items": null,
            "align_self": null,
            "border": null,
            "bottom": null,
            "display": null,
            "flex": null,
            "flex_flow": null,
            "grid_area": null,
            "grid_auto_columns": null,
            "grid_auto_flow": null,
            "grid_auto_rows": null,
            "grid_column": null,
            "grid_gap": null,
            "grid_row": null,
            "grid_template_areas": null,
            "grid_template_columns": null,
            "grid_template_rows": null,
            "height": null,
            "justify_content": null,
            "justify_items": null,
            "left": null,
            "margin": null,
            "max_height": null,
            "max_width": null,
            "min_height": null,
            "min_width": null,
            "object_fit": null,
            "object_position": null,
            "order": null,
            "overflow": null,
            "overflow_x": null,
            "overflow_y": null,
            "padding": null,
            "right": null,
            "top": null,
            "visibility": null,
            "width": null
          }
        },
        "be30c12485784535be7dd7df4ac5c67c": {
          "model_module": "@jupyter-widgets/controls",
          "model_name": "DescriptionStyleModel",
          "model_module_version": "1.5.0",
          "state": {
            "_model_module": "@jupyter-widgets/controls",
            "_model_module_version": "1.5.0",
            "_model_name": "DescriptionStyleModel",
            "_view_count": null,
            "_view_module": "@jupyter-widgets/base",
            "_view_module_version": "1.2.0",
            "_view_name": "StyleView",
            "description_width": ""
          }
        }
      }
    }
  },
  "nbformat": 4,
  "nbformat_minor": 0
}